{
 "cells": [
  {
   "cell_type": "code",
   "execution_count": 87,
   "metadata": {},
   "outputs": [],
   "source": [
    "from data_collection import DataImport"
   ]
  },
  {
   "cell_type": "code",
   "execution_count": 88,
   "metadata": {},
   "outputs": [],
   "source": [
    "DI = DataImport()"
   ]
  },
  {
   "cell_type": "code",
   "execution_count": 90,
   "metadata": {},
   "outputs": [
    {
     "ename": "AttributeError",
     "evalue": "'DataImport' object has no attribute 'API_TOKEN'",
     "output_type": "error",
     "traceback": [
      "\u001b[0;31m---------------------------------------------------------------------------\u001b[0m",
      "\u001b[0;31mAttributeError\u001b[0m                            Traceback (most recent call last)",
      "\u001b[1;32m/Users/johnfitzpatrick/Desktop/Grad School/NYU/Academic/Fall 2022/DS-GA 1007 - Programming for DS/Project/aggregate_portfolio_construction/testing.ipynb Cell 3\u001b[0m in \u001b[0;36m<cell line: 1>\u001b[0;34m()\u001b[0m\n\u001b[0;32m----> <a href='vscode-notebook-cell:/Users/johnfitzpatrick/Desktop/Grad%20School/NYU/Academic/Fall%202022/DS-GA%201007%20-%20Programming%20for%20DS/Project/aggregate_portfolio_construction/testing.ipynb#X10sZmlsZQ%3D%3D?line=0'>1</a>\u001b[0m DI\u001b[39m.\u001b[39;49mAPI_TOKEN()\n",
      "\u001b[0;31mAttributeError\u001b[0m: 'DataImport' object has no attribute 'API_TOKEN'"
     ]
    }
   ],
   "source": [
    "DI.query_holdings"
   ]
  },
  {
   "cell_type": "code",
   "execution_count": 89,
   "metadata": {},
   "outputs": [
    {
     "ename": "AttributeError",
     "evalue": "'DataImport' object has no attribute 'query_holdings'",
     "output_type": "error",
     "traceback": [
      "\u001b[0;31m---------------------------------------------------------------------------\u001b[0m",
      "\u001b[0;31mAttributeError\u001b[0m                            Traceback (most recent call last)",
      "\u001b[1;32m/Users/johnfitzpatrick/Desktop/Grad School/NYU/Academic/Fall 2022/DS-GA 1007 - Programming for DS/Project/aggregate_portfolio_construction/testing.ipynb Cell 3\u001b[0m in \u001b[0;36m<cell line: 1>\u001b[0;34m()\u001b[0m\n\u001b[0;32m----> <a href='vscode-notebook-cell:/Users/johnfitzpatrick/Desktop/Grad%20School/NYU/Academic/Fall%202022/DS-GA%201007%20-%20Programming%20for%20DS/Project/aggregate_portfolio_construction/testing.ipynb#W4sZmlsZQ%3D%3D?line=0'>1</a>\u001b[0m DI\u001b[39m.\u001b[39;49mquery_holdings(\u001b[39m\"\u001b[39m\u001b[39m0001454889\u001b[39m\u001b[39m\"\u001b[39m, \u001b[39m\"\u001b[39m\u001b[39mS000026636\u001b[39m\u001b[39m\"\u001b[39m)\n",
      "\u001b[0;31mAttributeError\u001b[0m: 'DataImport' object has no attribute 'query_holdings'"
     ]
    }
   ],
   "source": [
    "DI.query_holdings(\"0001454889\", \"S000026636\")"
   ]
  },
  {
   "cell_type": "code",
   "execution_count": 86,
   "metadata": {},
   "outputs": [
    {
     "ename": "AttributeError",
     "evalue": "'DataImport' object has no attribute 'query_10_filings'",
     "output_type": "error",
     "traceback": [
      "\u001b[0;31m---------------------------------------------------------------------------\u001b[0m",
      "\u001b[0;31mAttributeError\u001b[0m                            Traceback (most recent call last)",
      "\u001b[1;32m/Users/johnfitzpatrick/Desktop/Grad School/NYU/Academic/Fall 2022/DS-GA 1007 - Programming for DS/Project/aggregate_portfolio_construction/testing.ipynb Cell 4\u001b[0m in \u001b[0;36m<cell line: 1>\u001b[0;34m()\u001b[0m\n\u001b[0;32m----> <a href='vscode-notebook-cell:/Users/johnfitzpatrick/Desktop/Grad%20School/NYU/Academic/Fall%202022/DS-GA%201007%20-%20Programming%20for%20DS/Project/aggregate_portfolio_construction/testing.ipynb#W5sZmlsZQ%3D%3D?line=0'>1</a>\u001b[0m DI\u001b[39m.\u001b[39;49mquery_10_filings(\u001b[39m\"\u001b[39m\u001b[39m0001454889\u001b[39m\u001b[39m\"\u001b[39m)\n",
      "\u001b[0;31mAttributeError\u001b[0m: 'DataImport' object has no attribute 'query_10_filings'"
     ]
    }
   ],
   "source": [
    "DI.query_10_filings(\"0001454889\")"
   ]
  },
  {
   "cell_type": "code",
   "execution_count": null,
   "metadata": {},
   "outputs": [],
   "source": []
  }
 ],
 "metadata": {
  "kernelspec": {
   "display_name": "Python 3.9.13 ('myenv')",
   "language": "python",
   "name": "python3"
  },
  "language_info": {
   "codemirror_mode": {
    "name": "ipython",
    "version": 3
   },
   "file_extension": ".py",
   "mimetype": "text/x-python",
   "name": "python",
   "nbconvert_exporter": "python",
   "pygments_lexer": "ipython3",
   "version": "3.9.13"
  },
  "orig_nbformat": 4,
  "vscode": {
   "interpreter": {
    "hash": "d2534593a750130ac60be74b128a4c1aa6e23b376003d7d60a9f8a8d9b61f8d6"
   }
  }
 },
 "nbformat": 4,
 "nbformat_minor": 2
}
